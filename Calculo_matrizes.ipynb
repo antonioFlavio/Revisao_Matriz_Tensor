{
  "nbformat": 4,
  "nbformat_minor": 0,
  "metadata": {
    "colab": {
      "name": "Calculo_matrizes.ipynb",
      "version": "0.3.2",
      "provenance": [],
      "collapsed_sections": []
    },
    "kernelspec": {
      "name": "python3",
      "display_name": "Python 3"
    }
  },
  "cells": [
    {
      "cell_type": "code",
      "metadata": {
        "id": "VJCRsdNNgVMz",
        "colab_type": "code",
        "colab": {}
      },
      "source": [
        "import numpy as np"
      ],
      "execution_count": 0,
      "outputs": []
    },
    {
      "cell_type": "markdown",
      "metadata": {
        "id": "HL9JDykostPG",
        "colab_type": "text"
      },
      "source": [
        "# Vetores"
      ]
    },
    {
      "cell_type": "code",
      "metadata": {
        "id": "3KgRUZ5VgnlR",
        "colab_type": "code",
        "colab": {
          "base_uri": "https://localhost:8080/",
          "height": 34
        },
        "outputId": "730e873c-a841-4d50-fa65-82111fdaa81a"
      },
      "source": [
        "# Multiplicação de array por escalar\n",
        "x = np.array([2,2,2,2])\n",
        "y = 3\n",
        "\n",
        "print(x*y)"
      ],
      "execution_count": 24,
      "outputs": [
        {
          "output_type": "stream",
          "text": [
            "[6 6 6 6]\n"
          ],
          "name": "stdout"
        }
      ]
    },
    {
      "cell_type": "code",
      "metadata": {
        "id": "3AimNiDxqlj9",
        "colab_type": "code",
        "colab": {
          "base_uri": "https://localhost:8080/",
          "height": 34
        },
        "outputId": "c3ce44ca-b00d-494f-d713-34df9f91e737"
      },
      "source": [
        "# Multiplicação de array\n",
        "x = np.array([2,2,2,2,2])\n",
        "y = np.array([3,3,3,3,3])\n",
        "\n",
        "print(x*y)"
      ],
      "execution_count": 25,
      "outputs": [
        {
          "output_type": "stream",
          "text": [
            "[6 6 6 6 6]\n"
          ],
          "name": "stdout"
        }
      ]
    },
    {
      "cell_type": "code",
      "metadata": {
        "id": "GL27u8Vfoacf",
        "colab_type": "code",
        "colab": {
          "base_uri": "https://localhost:8080/",
          "height": 34
        },
        "outputId": "d1d5f716-38ed-4b0f-fe7a-635311b75c97"
      },
      "source": [
        "# Multiplicação de array com broadcast Numpy com vetores de tamanhos diferentes, com menor vetor de tamanho 1;\n",
        "x = np.array([2,2,2,2])\n",
        "y = np.array([3])\n",
        "\n",
        "print(x*y)"
      ],
      "execution_count": 8,
      "outputs": [
        {
          "output_type": "stream",
          "text": [
            "[6 6 6 6]\n"
          ],
          "name": "stdout"
        }
      ]
    },
    {
      "cell_type": "code",
      "metadata": {
        "id": "7TY53vziovkd",
        "colab_type": "code",
        "colab": {
          "base_uri": "https://localhost:8080/",
          "height": 197
        },
        "outputId": "ef09cfc8-f6d7-4559-ef5a-8b04e0c935bb"
      },
      "source": [
        "# Multiplicação de array com broadcast Numpy com vetores de tamanhos diferentes, com menor vetor com tamanho maior que 1;\n",
        "# Erro\n",
        "x = np.array([2,2,2,2])\n",
        "y = np.array([3,4])\n",
        "\n",
        "print(x*y)"
      ],
      "execution_count": 26,
      "outputs": [
        {
          "output_type": "error",
          "ename": "ValueError",
          "evalue": "ignored",
          "traceback": [
            "\u001b[0;31m---------------------------------------------------------------------------\u001b[0m",
            "\u001b[0;31mValueError\u001b[0m                                Traceback (most recent call last)",
            "\u001b[0;32m<ipython-input-26-442058cf1745>\u001b[0m in \u001b[0;36m<module>\u001b[0;34m()\u001b[0m\n\u001b[1;32m      2\u001b[0m \u001b[0my\u001b[0m \u001b[0;34m=\u001b[0m \u001b[0mnp\u001b[0m\u001b[0;34m.\u001b[0m\u001b[0marray\u001b[0m\u001b[0;34m(\u001b[0m\u001b[0;34m[\u001b[0m\u001b[0;36m3\u001b[0m\u001b[0;34m,\u001b[0m\u001b[0;36m4\u001b[0m\u001b[0;34m]\u001b[0m\u001b[0;34m)\u001b[0m\u001b[0;34m\u001b[0m\u001b[0;34m\u001b[0m\u001b[0m\n\u001b[1;32m      3\u001b[0m \u001b[0;34m\u001b[0m\u001b[0m\n\u001b[0;32m----> 4\u001b[0;31m \u001b[0mprint\u001b[0m\u001b[0;34m(\u001b[0m\u001b[0mx\u001b[0m\u001b[0;34m*\u001b[0m\u001b[0my\u001b[0m\u001b[0;34m)\u001b[0m\u001b[0;34m\u001b[0m\u001b[0;34m\u001b[0m\u001b[0m\n\u001b[0m",
            "\u001b[0;31mValueError\u001b[0m: operands could not be broadcast together with shapes (4,) (2,) "
          ]
        }
      ]
    },
    {
      "cell_type": "markdown",
      "metadata": {
        "id": "p1smxFKMsyLT",
        "colab_type": "text"
      },
      "source": [
        "# Matrizes\n",
        "\n",
        "Dica:\n",
        "Visualizar matriz como uma lista de listas. Os elementos de primeiro nível são as linhas, e os de segundo são as colunas;\n"
      ]
    },
    {
      "cell_type": "code",
      "metadata": {
        "id": "U_1hl4O1qeyZ",
        "colab_type": "code",
        "colab": {
          "base_uri": "https://localhost:8080/",
          "height": 68
        },
        "outputId": "a8edf47a-6998-483e-d7f8-9eb86acce6f1"
      },
      "source": [
        "# Multiplicação de Matriz por escalar\n",
        "\n",
        "x = np.array([[2,2], [3,3], [4,4]])\n",
        "y = 4\n",
        "\n",
        "print(x*y)"
      ],
      "execution_count": 21,
      "outputs": [
        {
          "output_type": "stream",
          "text": [
            "[[ 8  8]\n",
            " [12 12]\n",
            " [16 16]]\n"
          ],
          "name": "stdout"
        }
      ]
    },
    {
      "cell_type": "code",
      "metadata": {
        "id": "fsdqC2V2tUgZ",
        "colab_type": "code",
        "colab": {
          "base_uri": "https://localhost:8080/",
          "height": 68
        },
        "outputId": "0d1aa2a5-bc72-4cde-bafb-7722a3e3f7df"
      },
      "source": [
        "# Multiplicação de Matriz por vetor\n",
        "\n",
        "x = np.array([[2,2], [3,3], [4,4]])\n",
        "y = np.array([5])\n",
        "\n",
        "print(x*y)"
      ],
      "execution_count": 28,
      "outputs": [
        {
          "output_type": "stream",
          "text": [
            "[[10 10]\n",
            " [15 15]\n",
            " [20 20]]\n"
          ],
          "name": "stdout"
        }
      ]
    },
    {
      "cell_type": "code",
      "metadata": {
        "id": "EQRkDtfxuR9m",
        "colab_type": "code",
        "colab": {
          "base_uri": "https://localhost:8080/",
          "height": 197
        },
        "outputId": "f7b85d51-8998-4794-b28a-526d7d356a00"
      },
      "source": [
        "# Multiplicação de Matriz por vetor com erro de broadcast.\n",
        "# Erro de broadcast\n",
        "# Motivo: Vetor possui tamanho maior que 1 e diferente do tamanho da matriz.\n",
        "\n",
        "x = np.array([[2,2], [3,3], [4,4]])\n",
        "y = np.array([5,2,3])\n",
        "\n",
        "print(x*y)"
      ],
      "execution_count": 33,
      "outputs": [
        {
          "output_type": "error",
          "ename": "ValueError",
          "evalue": "ignored",
          "traceback": [
            "\u001b[0;31m---------------------------------------------------------------------------\u001b[0m",
            "\u001b[0;31mValueError\u001b[0m                                Traceback (most recent call last)",
            "\u001b[0;32m<ipython-input-33-e27d1f7e1bb1>\u001b[0m in \u001b[0;36m<module>\u001b[0;34m()\u001b[0m\n\u001b[1;32m      3\u001b[0m \u001b[0my\u001b[0m \u001b[0;34m=\u001b[0m \u001b[0mnp\u001b[0m\u001b[0;34m.\u001b[0m\u001b[0marray\u001b[0m\u001b[0;34m(\u001b[0m\u001b[0;34m[\u001b[0m\u001b[0;36m5\u001b[0m\u001b[0;34m,\u001b[0m\u001b[0;36m2\u001b[0m\u001b[0;34m,\u001b[0m\u001b[0;36m3\u001b[0m\u001b[0;34m]\u001b[0m\u001b[0;34m)\u001b[0m\u001b[0;34m\u001b[0m\u001b[0;34m\u001b[0m\u001b[0m\n\u001b[1;32m      4\u001b[0m \u001b[0;34m\u001b[0m\u001b[0m\n\u001b[0;32m----> 5\u001b[0;31m \u001b[0mprint\u001b[0m\u001b[0;34m(\u001b[0m\u001b[0mx\u001b[0m\u001b[0;34m*\u001b[0m\u001b[0my\u001b[0m\u001b[0;34m)\u001b[0m\u001b[0;34m\u001b[0m\u001b[0;34m\u001b[0m\u001b[0m\n\u001b[0m",
            "\u001b[0;31mValueError\u001b[0m: operands could not be broadcast together with shapes (3,2) (3,) "
          ]
        }
      ]
    },
    {
      "cell_type": "code",
      "metadata": {
        "id": "G-B1-q0VvA8c",
        "colab_type": "code",
        "colab": {
          "base_uri": "https://localhost:8080/",
          "height": 119
        },
        "outputId": "731e2c52-882a-4150-988e-9d26b3aaf3b7"
      },
      "source": [
        "# Multiplicação de Matriz por vetor sem erro de broadcast.\n",
        "# Sem erro\n",
        "# Motivo: Numpy identificou o y como uma matriz de um único elemento.\n",
        "# Observação: Esse é um exemplo de que o broadcast resolve, porém as vezes não era o resultado esperado. \n",
        "#             As vezes a intenção de y ter 2 elementos não seja identificá-lo como uma matriz.\n",
        "x = np.array([[2,2], [3,3], [4,4]])\n",
        "y = np.array([5,10])\n",
        "\n",
        "print(x.shape)\n",
        "print(y.shape)\n",
        "print()\n",
        "print(x*y)"
      ],
      "execution_count": 38,
      "outputs": [
        {
          "output_type": "stream",
          "text": [
            "(3, 2)\n",
            "(2,)\n",
            "\n",
            "[[10 20]\n",
            " [15 30]\n",
            " [20 40]]\n"
          ],
          "name": "stdout"
        }
      ]
    },
    {
      "cell_type": "markdown",
      "metadata": {
        "id": "C7pQ0c-Xy6l3",
        "colab_type": "text"
      },
      "source": [
        "# Tensores\n",
        "\n",
        "Dica: Visualizar como lista de matrizes;"
      ]
    },
    {
      "cell_type": "code",
      "metadata": {
        "id": "fa0XNOz0zG-O",
        "colab_type": "code",
        "colab": {
          "base_uri": "https://localhost:8080/",
          "height": 34
        },
        "outputId": "c1767d7b-90a8-4133-d565-a22e7c457c4b"
      },
      "source": [
        "x = np.array([\n",
        "    [[\"m1_l1_c1\",\"m1_l1_c2\"],[\"m1_l2_c1\",\"m1_l2_c2\"],[\"m1_l3_c1\",\"m1_l3_c2\"]], \n",
        "    [[\"m2_l1_c1\",\"m2_l1_c2\"],[\"m2_l2_c1\",\"m2_l2_c2\"],[\"m2_l3_c1\",\"m2_l3_c2\"]], \n",
        "    [[\"m3_l1_c1\",\"m3_l1_c2\"],[\"m3_l2_c1\",\"m3_l2_c2\"],[\"m3_l3_c1\",\"m3_l3_c2\"]], \n",
        "])\n",
        "\n",
        "print(x.shape)"
      ],
      "execution_count": 62,
      "outputs": [
        {
          "output_type": "stream",
          "text": [
            "(3, 3, 2)\n"
          ],
          "name": "stdout"
        }
      ]
    },
    {
      "cell_type": "markdown",
      "metadata": {
        "id": "QeyNxHhyNbfU",
        "colab_type": "text"
      },
      "source": [
        "Visualizando posições de um tensor:\n",
        "> Para facilitar a visualização, cada elemento tem sua posição:\n",
        ">> Exemplo: \"m1_l3_c1\"\n",
        ">> * m1 = 1ª matriz\n",
        ">> * l3 = 3ª linha\n",
        ">> * c1 = 1ª coluna\n"
      ]
    },
    {
      "cell_type": "code",
      "metadata": {
        "id": "6xJTn06oNka5",
        "colab_type": "code",
        "colab": {
          "base_uri": "https://localhost:8080/",
          "height": 187
        },
        "outputId": "c2a07e2c-b3be-4d0b-9816-f9c0d3bf25c3"
      },
      "source": [
        "# Busca por level\n",
        "print(\"Segunda matriz:\")\n",
        "print(x[1])\n",
        "print()\n",
        "\n",
        "# Busca por level e linha\n",
        "print(\"Terceira linha da segunda matriz\")\n",
        "print(x[1][2])\n",
        "print()\n",
        "\n",
        "# Busca por level, linha e coluna\n",
        "print(\"Primeira coluna da terceira linha da segunda matriz\")\n",
        "print(x[1][2][0])"
      ],
      "execution_count": 64,
      "outputs": [
        {
          "output_type": "stream",
          "text": [
            "Segunda matriz:\n",
            "[['m2_l1_c1' 'm2_l1_c2']\n",
            " ['m2_l2_c1' 'm2_l2_c2']\n",
            " ['m2_l3_c1' 'm2_l3_c2']]\n",
            "\n",
            "Terceira linha da segunda matriz\n",
            "['m2_l3_c1' 'm2_l3_c2']\n",
            "\n",
            "Primeira coluna da terceira linha da segunda matriz\n",
            "m2_l3_c1\n"
          ],
          "name": "stdout"
        }
      ]
    },
    {
      "cell_type": "markdown",
      "metadata": {
        "id": "iMVuxCcmRI-b",
        "colab_type": "text"
      },
      "source": [
        "## Operações com tensores"
      ]
    },
    {
      "cell_type": "code",
      "metadata": {
        "id": "90bTCQnrRL7j",
        "colab_type": "code",
        "colab": {
          "base_uri": "https://localhost:8080/",
          "height": 153
        },
        "outputId": "41b8c2c7-8f0b-4536-cc1c-990308cf9c15"
      },
      "source": [
        "# Multiplicação de tensor por escalar\n",
        "x = np.array([\n",
        "    [[2,4],[6,8]], \n",
        "    [[2,4],[6,8]], \n",
        "    [[2,4],[6,8]], \n",
        "])\n",
        "\n",
        "y = 3\n",
        "\n",
        "print(x*y)"
      ],
      "execution_count": 68,
      "outputs": [
        {
          "output_type": "stream",
          "text": [
            "[[[ 6 12]\n",
            "  [18 24]]\n",
            "\n",
            " [[ 6 12]\n",
            "  [18 24]]\n",
            "\n",
            " [[ 6 12]\n",
            "  [18 24]]]\n"
          ],
          "name": "stdout"
        }
      ]
    },
    {
      "cell_type": "code",
      "metadata": {
        "id": "NsRFCuOHVa3A",
        "colab_type": "code",
        "colab": {
          "base_uri": "https://localhost:8080/",
          "height": 153
        },
        "outputId": "99e39c0b-f5cb-492b-cd78-ea1cbd49bbcd"
      },
      "source": [
        "# Multiplicação de tensor por vetor de tamanho igual ao elemento da matriz. \n",
        "# A multiplicação é feita por broadcast.\n",
        "x = np.array([\n",
        "    [[2,4],[6,8]], \n",
        "    [[2,4],[6,8]], \n",
        "    [[2,4],[6,8]], \n",
        "])\n",
        "\n",
        "y = np.array([2,3])\n",
        "\n",
        "print(x*y)\n",
        "\n",
        "# Multiplicar o tensor x pelo vetor y = [2,3] é o mesmo que multiplicar o mesmo tensor por:\n",
        "# matriz = [[2,3]]\n",
        "# tensor = [[[2,3]]]"
      ],
      "execution_count": 77,
      "outputs": [
        {
          "output_type": "stream",
          "text": [
            "[[[ 4 12]\n",
            "  [12 24]]\n",
            "\n",
            " [[ 4 12]\n",
            "  [12 24]]\n",
            "\n",
            " [[ 4 12]\n",
            "  [12 24]]]\n"
          ],
          "name": "stdout"
        }
      ]
    },
    {
      "cell_type": "code",
      "metadata": {
        "id": "H4ylQvDPWKuq",
        "colab_type": "code",
        "colab": {
          "base_uri": "https://localhost:8080/",
          "height": 197
        },
        "outputId": "7ee5439a-2f72-4c42-b832-f3b424a6de31"
      },
      "source": [
        "# Multiplicação de tensor por vetor maior que o último nível do array multi-dimensional, \n",
        "# ou seja, vetor maior que o tamanho do item da matriz.\n",
        "# Erro\n",
        "# Motivo: Não é possível broadcast.\n",
        "x = np.array([\n",
        "    [[2,4],[6,8]], \n",
        "    [[2,4],[6,8]], \n",
        "    [[2,4],[6,8]], \n",
        "])\n",
        "\n",
        "y = np.array([2,3,4])\n",
        "\n",
        "print(x*y)"
      ],
      "execution_count": 73,
      "outputs": [
        {
          "output_type": "error",
          "ename": "ValueError",
          "evalue": "ignored",
          "traceback": [
            "\u001b[0;31m---------------------------------------------------------------------------\u001b[0m",
            "\u001b[0;31mValueError\u001b[0m                                Traceback (most recent call last)",
            "\u001b[0;32m<ipython-input-73-8bfdb38566fb>\u001b[0m in \u001b[0;36m<module>\u001b[0;34m()\u001b[0m\n\u001b[1;32m      7\u001b[0m \u001b[0my\u001b[0m \u001b[0;34m=\u001b[0m \u001b[0mnp\u001b[0m\u001b[0;34m.\u001b[0m\u001b[0marray\u001b[0m\u001b[0;34m(\u001b[0m\u001b[0;34m[\u001b[0m\u001b[0;36m2\u001b[0m\u001b[0;34m,\u001b[0m\u001b[0;36m3\u001b[0m\u001b[0;34m,\u001b[0m\u001b[0;36m4\u001b[0m\u001b[0;34m]\u001b[0m\u001b[0;34m)\u001b[0m\u001b[0;34m\u001b[0m\u001b[0;34m\u001b[0m\u001b[0m\n\u001b[1;32m      8\u001b[0m \u001b[0;34m\u001b[0m\u001b[0m\n\u001b[0;32m----> 9\u001b[0;31m \u001b[0mprint\u001b[0m\u001b[0;34m(\u001b[0m\u001b[0mx\u001b[0m\u001b[0;34m*\u001b[0m\u001b[0my\u001b[0m\u001b[0;34m)\u001b[0m\u001b[0;34m\u001b[0m\u001b[0;34m\u001b[0m\u001b[0m\n\u001b[0m",
            "\u001b[0;31mValueError\u001b[0m: operands could not be broadcast together with shapes (3,2,2) (3,) "
          ]
        }
      ]
    },
    {
      "cell_type": "code",
      "metadata": {
        "id": "yogE63d2W-Pi",
        "colab_type": "code",
        "colab": {
          "base_uri": "https://localhost:8080/",
          "height": 204
        },
        "outputId": "6d06d5d3-844b-4ff1-ff2c-07e3b01598bc"
      },
      "source": [
        "# Multiplicação de tensor por matriz. \n",
        "x = np.array([\n",
        "    [[2,4],[6,8]], \n",
        "    [[2,4],[6,8]], \n",
        "    [[2,4],[6,8]], \n",
        "])\n",
        "\n",
        "y = np.array([[2,3],[4,5]])\n",
        "\n",
        "print(x.shape)\n",
        "print(y.shape)\n",
        "print()\n",
        "\n",
        "print(x*y)"
      ],
      "execution_count": 79,
      "outputs": [
        {
          "output_type": "stream",
          "text": [
            "(3, 2, 2)\n",
            "(2, 2)\n",
            "\n",
            "[[[ 4 12]\n",
            "  [24 40]]\n",
            "\n",
            " [[ 4 12]\n",
            "  [24 40]]\n",
            "\n",
            " [[ 4 12]\n",
            "  [24 40]]]\n"
          ],
          "name": "stdout"
        }
      ]
    },
    {
      "cell_type": "code",
      "metadata": {
        "id": "1K7TJm3PaMqT",
        "colab_type": "code",
        "colab": {
          "base_uri": "https://localhost:8080/",
          "height": 204
        },
        "outputId": "dafe22e4-3b3f-4051-fdef-7cd1710675b7"
      },
      "source": [
        "# Multiplicação de tensor por tensor. \n",
        "x = np.array([\n",
        "    [[2,4],[6,8]], \n",
        "    [[2,4],[6,8]], \n",
        "    [[2,4],[6,8]], \n",
        "])\n",
        "\n",
        "y = np.array([\n",
        "    [[2,3],[4,5]], \n",
        "    [[6,7],[8,9]], \n",
        "    [[10,10],[10,10]]])\n",
        "\n",
        "print(x.shape)\n",
        "print(y.shape)\n",
        "print()\n",
        "\n",
        "print(x*y)"
      ],
      "execution_count": 81,
      "outputs": [
        {
          "output_type": "stream",
          "text": [
            "(3, 2, 2)\n",
            "(3, 2, 2)\n",
            "\n",
            "[[[ 4 12]\n",
            "  [24 40]]\n",
            "\n",
            " [[12 28]\n",
            "  [48 72]]\n",
            "\n",
            " [[20 40]\n",
            "  [60 80]]]\n"
          ],
          "name": "stdout"
        }
      ]
    },
    {
      "cell_type": "markdown",
      "metadata": {
        "id": "WQbQaecuLUwz",
        "colab_type": "text"
      },
      "source": [
        "# Fontes"
      ]
    },
    {
      "cell_type": "markdown",
      "metadata": {
        "id": "INIL6Q4kLXg2",
        "colab_type": "text"
      },
      "source": [
        "https://machinelearningmastery.com/introduction-to-tensors-for-machine-learning/\n"
      ]
    }
  ]
}